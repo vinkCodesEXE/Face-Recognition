{
 "cells": [
  {
   "cell_type": "code",
   "execution_count": 1,
   "id": "d9df80f1",
   "metadata": {},
   "outputs": [],
   "source": [
    "# TensorFlow and tf.keras\n",
    "import tensorflow as tf\n",
    "\n",
    "# Helper libraries\n",
    "import numpy as np\n",
    "import matplotlib.pyplot as plt"
   ]
  },
  {
   "cell_type": "code",
   "execution_count": 2,
   "id": "100972c3",
   "metadata": {},
   "outputs": [],
   "source": [
    "import pickle\n",
    "\n",
    "file = open(\"X1.pickle\",'rb')\n",
    "image_vector = pickle.load(file)"
   ]
  },
  {
   "cell_type": "code",
   "execution_count": 3,
   "id": "4ae720fe",
   "metadata": {},
   "outputs": [
    {
     "name": "stdout",
     "output_type": "stream",
     "text": [
      "Polygence Project.ipynb        \u001b[34mcelebrity_jason segel\u001b[m\u001b[m/\r\n",
      "X.pickle                       \u001b[34mcelebrity_jeniffer aniston\u001b[m\u001b[m/\r\n",
      "X1.pickle                      \u001b[34mcelebrity_jim parsons\u001b[m\u001b[m/\r\n",
      "\u001b[34mcelebrity kaley cucoo\u001b[m\u001b[m/         \u001b[34mcelebrity_josh radnor\u001b[m\u001b[m/\r\n",
      "\u001b[34mcelebrity_Elliot Gould\u001b[m\u001b[m/        \u001b[34mcelebrity_lisa kundrow\u001b[m\u001b[m/\r\n",
      "\u001b[34mcelebrity_Genelia Deshmukh\u001b[m\u001b[m/    \u001b[34mcelebrity_madhuri dixit\u001b[m\u001b[m/\r\n",
      "\u001b[34mcelebrity_Gillian Hall\u001b[m\u001b[m/        \u001b[34mcelebrity_matt lee blanc\u001b[m\u001b[m/\r\n",
      "\u001b[34mcelebrity_Johnny Galeki\u001b[m\u001b[m/       \u001b[34mcelebrity_mayim bailik\u001b[m\u001b[m/\r\n",
      "\u001b[34mcelebrity_Kunal Nayyar\u001b[m\u001b[m/        \u001b[34mcelebrity_neil patrick harris\u001b[m\u001b[m/\r\n",
      "\u001b[34mcelebrity_bob saget\u001b[m\u001b[m/           \u001b[34mcelebrity_simon helberg\u001b[m\u001b[m/\r\n",
      "\u001b[34mcelebrity_cobie smulders\u001b[m\u001b[m/      y.pickle\r\n",
      "\u001b[34mcelebrity_cortne cox\u001b[m\u001b[m/          y1.pickle\r\n",
      "\u001b[34mcelebrity_david schiwmmer\u001b[m\u001b[m/\r\n"
     ]
    }
   ],
   "source": [
    "ls"
   ]
  },
  {
   "cell_type": "code",
   "execution_count": 4,
   "id": "549df262",
   "metadata": {},
   "outputs": [
    {
     "name": "stdout",
     "output_type": "stream",
     "text": [
      "/Users/vinayak\n"
     ]
    }
   ],
   "source": [
    "cd"
   ]
  },
  {
   "cell_type": "code",
   "execution_count": 5,
   "id": "9795caf4",
   "metadata": {},
   "outputs": [
    {
     "name": "stdout",
     "output_type": "stream",
     "text": [
      "/Users/vinayak/Desktop/Polygence Project\n"
     ]
    }
   ],
   "source": [
    "cd /Users/vinayak/Desktop/Polygence Project"
   ]
  },
  {
   "cell_type": "code",
   "execution_count": 6,
   "id": "1f6ff2ba",
   "metadata": {},
   "outputs": [
    {
     "name": "stdout",
     "output_type": "stream",
     "text": [
      "Polygence Project.ipynb        \u001b[34mcelebrity_jason segel\u001b[m\u001b[m/\r\n",
      "X.pickle                       \u001b[34mcelebrity_jeniffer aniston\u001b[m\u001b[m/\r\n",
      "X1.pickle                      \u001b[34mcelebrity_jim parsons\u001b[m\u001b[m/\r\n",
      "\u001b[34mcelebrity kaley cucoo\u001b[m\u001b[m/         \u001b[34mcelebrity_josh radnor\u001b[m\u001b[m/\r\n",
      "\u001b[34mcelebrity_Elliot Gould\u001b[m\u001b[m/        \u001b[34mcelebrity_lisa kundrow\u001b[m\u001b[m/\r\n",
      "\u001b[34mcelebrity_Genelia Deshmukh\u001b[m\u001b[m/    \u001b[34mcelebrity_madhuri dixit\u001b[m\u001b[m/\r\n",
      "\u001b[34mcelebrity_Gillian Hall\u001b[m\u001b[m/        \u001b[34mcelebrity_matt lee blanc\u001b[m\u001b[m/\r\n",
      "\u001b[34mcelebrity_Johnny Galeki\u001b[m\u001b[m/       \u001b[34mcelebrity_mayim bailik\u001b[m\u001b[m/\r\n",
      "\u001b[34mcelebrity_Kunal Nayyar\u001b[m\u001b[m/        \u001b[34mcelebrity_neil patrick harris\u001b[m\u001b[m/\r\n",
      "\u001b[34mcelebrity_bob saget\u001b[m\u001b[m/           \u001b[34mcelebrity_simon helberg\u001b[m\u001b[m/\r\n",
      "\u001b[34mcelebrity_cobie smulders\u001b[m\u001b[m/      y.pickle\r\n",
      "\u001b[34mcelebrity_cortne cox\u001b[m\u001b[m/          y1.pickle\r\n",
      "\u001b[34mcelebrity_david schiwmmer\u001b[m\u001b[m/\r\n"
     ]
    }
   ],
   "source": [
    "ls\n"
   ]
  },
  {
   "cell_type": "code",
   "execution_count": 7,
   "id": "9d3ed1ab",
   "metadata": {},
   "outputs": [],
   "source": [
    "file1 = open(\"y1.pickle\",'rb')\n",
    "label_vector = pickle.load(file1)"
   ]
  },
  {
   "cell_type": "code",
   "execution_count": 8,
   "id": "546f1899",
   "metadata": {},
   "outputs": [
    {
     "data": {
      "text/plain": [
       "[2,\n",
       " 19,\n",
       " 14,\n",
       " 18,\n",
       " 16,\n",
       " 0,\n",
       " 4,\n",
       " 17,\n",
       " 4,\n",
       " 1,\n",
       " 18,\n",
       " 13,\n",
       " 5,\n",
       " 11,\n",
       " 10,\n",
       " 13,\n",
       " 12,\n",
       " 6,\n",
       " 11,\n",
       " 0,\n",
       " 15,\n",
       " 6,\n",
       " 4,\n",
       " 18,\n",
       " 7,\n",
       " 4,\n",
       " 5,\n",
       " 16,\n",
       " 3,\n",
       " 7,\n",
       " 13,\n",
       " 14,\n",
       " 0,\n",
       " 9,\n",
       " 8,\n",
       " 1,\n",
       " 13,\n",
       " 11,\n",
       " 3,\n",
       " 17,\n",
       " 12,\n",
       " 6,\n",
       " 11,\n",
       " 17,\n",
       " 3,\n",
       " 16,\n",
       " 12,\n",
       " 5,\n",
       " 4,\n",
       " 16,\n",
       " 19,\n",
       " 1,\n",
       " 4,\n",
       " 19,\n",
       " 13,\n",
       " 7,\n",
       " 10,\n",
       " 9,\n",
       " 14,\n",
       " 8,\n",
       " 2,\n",
       " 15,\n",
       " 6,\n",
       " 15,\n",
       " 8,\n",
       " 3,\n",
       " 15,\n",
       " 10,\n",
       " 7,\n",
       " 10,\n",
       " 17,\n",
       " 12,\n",
       " 1,\n",
       " 12,\n",
       " 7,\n",
       " 1,\n",
       " 9,\n",
       " 5,\n",
       " 8,\n",
       " 0,\n",
       " 19,\n",
       " 5,\n",
       " 8,\n",
       " 18,\n",
       " 15,\n",
       " 2,\n",
       " 10,\n",
       " 17,\n",
       " 11,\n",
       " 2,\n",
       " 14,\n",
       " 6,\n",
       " 18,\n",
       " 9,\n",
       " 16,\n",
       " 2,\n",
       " 19,\n",
       " 14,\n",
       " 9,\n",
       " 3,\n",
       " 0]"
      ]
     },
     "execution_count": 8,
     "metadata": {},
     "output_type": "execute_result"
    }
   ],
   "source": [
    "label_vector"
   ]
  },
  {
   "cell_type": "code",
   "execution_count": 9,
   "id": "a45bd6ac",
   "metadata": {},
   "outputs": [],
   "source": [
    "class_names = [\"celebrity_bob saget\", \"celebrity_cobie smulders\",\"celebrity_jason segel\",\"celebrity kaley cucoo\",\"celebrity_jeniffer aniston\",\"celebrity_Elliot Gould\",\"celebrity_jim parsons\",\"celebrity_Genelia Deshmukh\" ,\"celebrity_josh radnor\",\"celebrity_Gillian Hall\" ,\"celebrity_lisa kundrow\",\"celebrity_Johnny Galeki\",\"celebrity_madhuri dixit\",\"celebrity_Kunal Nayyar\" ,\"celebrity_matt lee blanc\",\"celebrity_mayim bailik\",\"celebrity_neil patrick harris\",\"celebrity_cortne cox\" ,\"celebrity_simon helberg\",\"celebrity_david schiwmmer\"]"
   ]
  },
  {
   "cell_type": "code",
   "execution_count": 10,
   "id": "25980004",
   "metadata": {},
   "outputs": [
    {
     "data": {
      "text/plain": [
       "(303, 100, 100, 1)"
      ]
     },
     "execution_count": 10,
     "metadata": {},
     "output_type": "execute_result"
    }
   ],
   "source": [
    "image_vector.shape"
   ]
  },
  {
   "cell_type": "code",
   "execution_count": 20,
   "id": "8f04b90b",
   "metadata": {},
   "outputs": [
    {
     "data": {
      "text/plain": [
       "array([[[[211, 229, 233, ..., 204, 231, 182],\n",
       "         [203, 230, 180, ..., 194, 157, 176],\n",
       "         [191, 154, 173, ..., 116, 146, 164],\n",
       "         ...,\n",
       "         [159, 142, 240, ..., 141, 201, 135],\n",
       "         [129, 208, 139, ..., 144, 145, 150],\n",
       "         [ 70,  71,  73, ..., 153, 137, 238]],\n",
       "\n",
       "        [[160, 143, 235, ..., 137, 216, 140],\n",
       "         [132, 211, 135, ..., 151, 151, 160],\n",
       "         [ 70,  70,  71, ..., 156, 139, 239],\n",
       "         ...,\n",
       "         [253, 254, 247, ...,  43,  41,  52],\n",
       "         [ 37,  32,  38, ...,  46,  52,  46],\n",
       "         [ 45,  51,  46, ..., 253, 253, 246]],\n",
       "\n",
       "        [[253, 254, 247, ...,  43,  41,  52],\n",
       "         [ 38,  33,  39, ...,  47,  53,  47],\n",
       "         [ 46,  52,  47, ..., 254, 255, 248],\n",
       "         ...,\n",
       "         [ 22,  17,  23, ...,  20,  26,  25],\n",
       "         [ 20,  26,  25, ...,  36,  32,  27],\n",
       "         [ 33,  32,  27, ...,  17,  12,  18]]],\n",
       "\n",
       "\n",
       "       [[[ 61,  47,  83, ...,  54,  98,  67],\n",
       "         [ 54,  98,  67, ..., 106,  71,  54],\n",
       "         [106,  71,  54, ...,  66,  50,  97],\n",
       "         ...,\n",
       "         [118,  87, 199, ...,  50, 177, 138],\n",
       "         [135, 161, 112, ...,  56,  56, 118],\n",
       "         [ 59,  50,  95, ..., 102,  71, 187]],\n",
       "\n",
       "        [[118,  86, 197, ...,  99, 194, 149],\n",
       "         [149, 179, 133, ...,  59,  59, 121],\n",
       "         [ 59,  50,  95, ..., 102,  72, 190],\n",
       "         ...,\n",
       "         [ 26,  34,  22, ...,  29,  17,  21],\n",
       "         [ 28,  16,  18, ..., 201, 211, 191],\n",
       "         [197, 211, 164, ...,  26,  34,  22]],\n",
       "\n",
       "        [[ 26,  34,  22, ...,  30,  18,  22],\n",
       "         [ 28,  16,  18, ..., 204, 215, 192],\n",
       "         [198, 212, 156, ...,  26,  34,  22],\n",
       "         ...,\n",
       "         [ 22,  15,  17, ...,  26,  30,  36],\n",
       "         [ 24,  28,  37, ...,  26,  90,  82],\n",
       "         [ 77,  67,  61, ...,  33,  22,  26]]],\n",
       "\n",
       "\n",
       "       [[[172, 111,  82, ..., 107,  76, 167],\n",
       "         [110,  67, 167, ...,  75, 164, 103],\n",
       "         [ 74, 164, 103, ..., 164, 103,  75],\n",
       "         ...,\n",
       "         [ 92,  64, 121, ...,  72, 187, 116],\n",
       "         [ 79, 167, 107, ..., 171, 110,  81],\n",
       "         [181, 120,  89, ...,  71,  49, 106]],\n",
       "\n",
       "        [[ 71,  43, 111, ...,  67, 176, 104],\n",
       "         [ 64, 172, 110, ..., 171, 110,  81],\n",
       "         [179, 118,  87, ..., 145, 123, 180],\n",
       "         ...,\n",
       "         [ 72,  75,  74, ...,  38,  38,  38],\n",
       "         [183, 122,  93, ...,  32,  35,  29],\n",
       "         [ 29,  29,  28, ...,  71,  76,  75]],\n",
       "\n",
       "        [[ 73,  76,  75, ...,  40,  40,  40],\n",
       "         [183, 122,  93, ...,  34,  35,  31],\n",
       "         [ 31,  31,  15, ...,  72,  77,  76],\n",
       "         ...,\n",
       "         [180, 122,  92, ...,  54,  52,  67],\n",
       "         [ 67,  67,  78, ...,  59,  63,  63],\n",
       "         [ 61,  65,  65, ...,  67,  67,  66]]],\n",
       "\n",
       "\n",
       "       ...,\n",
       "\n",
       "\n",
       "       [[[  9,   7,   8, ...,   8,   6,   9],\n",
       "         [  8,   6,   9, ...,  37,   9,   7],\n",
       "         [  4,  12,  13, ...,   4,   2,   3],\n",
       "         ...,\n",
       "         [100,  59, 214, ...,  74, 198, 107],\n",
       "         [ 73, 179,  92, ...,   5,   4,   2],\n",
       "         [  8,   7,   5, ..., 117,  79, 136]],\n",
       "\n",
       "        [[ 69,  32, 181, ...,  92, 205, 111],\n",
       "         [ 76, 187, 102, ...,   6,   5,   3],\n",
       "         [  8,   7,   5, ...,  97,  56, 167],\n",
       "         ...,\n",
       "         [101, 209,  72, ...,   4,   3,   1],\n",
       "         [  4,   2,   3, ...,  62,  38, 146],\n",
       "         [ 74,  43, 158, ..., 100, 207,  72]],\n",
       "\n",
       "        [[ 98, 208,  74, ...,   5,   4,   2],\n",
       "         [  4,   2,   3, ...,  55,  31, 145],\n",
       "         [ 75,  45, 156, ..., 103, 209,  74],\n",
       "         ...,\n",
       "         [  2,   0,   1, ..., 108,  76, 189],\n",
       "         [106,  73, 180, ...,   3,   2,   5],\n",
       "         [  7,   6,   3, ...,   5,   4,   2]]],\n",
       "\n",
       "\n",
       "       [[[ 11,  11,  19, ...,  21,  30,  19],\n",
       "         [ 22,  31,  20, ...,  30,  22,  22],\n",
       "         [ 30,  22,  25, ...,   9,   9,  17],\n",
       "         ...,\n",
       "         [ 22,  34,  20, ..., 111,  86,  60],\n",
       "         [ 47, 138, 128, ...,  11,  11,  19],\n",
       "         [ 11,  11,  21, ...,  21,  33,  19]],\n",
       "\n",
       "        [[ 21,  33,  19, ..., 105, 130, 107],\n",
       "         [ 93, 121, 112, ...,  10,  10,  18],\n",
       "         [ 11,  11,  21, ...,  20,  32,  18],\n",
       "         ...,\n",
       "         [228, 198, 208, ...,   7,   7,  15],\n",
       "         [  9,   9,  19, ...,  12,  21,   9],\n",
       "         [ 12,  21,   9, ..., 238, 195, 202]],\n",
       "\n",
       "        [[228, 195, 205, ...,   7,   7,  15],\n",
       "         [  9,   9,  19, ...,  12,  21,   9],\n",
       "         [ 12,  21,   9, ..., 232, 202, 209],\n",
       "         ...,\n",
       "         [ 17,  19,  31, ...,  29,  44,  27],\n",
       "         [ 29,  44,  26, ..., 202, 103, 127],\n",
       "         [162,  96, 120, ...,  18,  21,  30]]],\n",
       "\n",
       "\n",
       "       [[[ 34,  61, 148, ...,  61, 148,  34],\n",
       "         [ 61, 148,  34, ..., 148,  34,  61],\n",
       "         [148,  34,  61, ...,  34,  61, 148],\n",
       "         ...,\n",
       "         [ 95,  72, 174, ..., 104, 190, 137],\n",
       "         [106, 197, 139, ...,  34,  61, 148],\n",
       "         [ 34,  61, 148, ...,  55,  39, 144]],\n",
       "\n",
       "        [[ 93,  69, 188, ..., 103, 191, 138],\n",
       "         [107, 198, 140, ...,  34,  61, 148],\n",
       "         [ 34,  61, 148, ...,  60,  45, 154],\n",
       "         ...,\n",
       "         [103, 169, 120, ...,  34,  61, 148],\n",
       "         [ 34,  61, 148, ...,  54,  49, 145],\n",
       "         [ 94,  84, 183, ...,  81, 176, 123]],\n",
       "\n",
       "        [[ 79, 153, 111, ...,  34,  61, 148],\n",
       "         [ 34,  61, 148, ...,  31,  34, 117],\n",
       "         [ 72,  67, 177, ...,  74, 160, 112],\n",
       "         ...,\n",
       "         [ 26,  26,  36, ...,  21,  31,  19],\n",
       "         [ 19,  29,  23, ...,  30,  22,  22],\n",
       "         [ 32,  18,  18, ...,  26,  26,  36]]]], dtype=uint8)"
      ]
     },
     "execution_count": 20,
     "metadata": {},
     "output_type": "execute_result"
    }
   ],
   "source": [
    "trial = np.reshape(image_vector,(101,3,100,100))\n",
    "trial"
   ]
  },
  {
   "cell_type": "code",
   "execution_count": 21,
   "id": "e9301cfa",
   "metadata": {},
   "outputs": [
    {
     "data": {
      "text/plain": [
       "101"
      ]
     },
     "execution_count": 21,
     "metadata": {},
     "output_type": "execute_result"
    }
   ],
   "source": [
    "len(label_vector) "
   ]
  },
  {
   "cell_type": "code",
   "execution_count": 25,
   "id": "87efac88",
   "metadata": {},
   "outputs": [
    {
     "data": {
      "text/plain": [
       "(3, 100, 100)"
      ]
     },
     "execution_count": 25,
     "metadata": {},
     "output_type": "execute_result"
    }
   ],
   "source": [
    "trial[0].shape"
   ]
  },
  {
   "cell_type": "code",
   "execution_count": 37,
   "id": "9b3cc788",
   "metadata": {},
   "outputs": [
    {
     "data": {
      "text/plain": [
       "Text(0.5, 1.0, 'Second')"
      ]
     },
     "execution_count": 37,
     "metadata": {},
     "output_type": "execute_result"
    },
    {
     "data": {
      "image/png": "[encoded data removed]",
      "text/plain": [
       "<Figure size 432x288 with 1 Axes>"
      ]
     },
     "metadata": {
      "needs_background": "light"
     },
     "output_type": "display_data"
    }
   ],
   "source": [
    "\n",
    "plt.subplot(1,1,1)\n",
    "# showing image\n",
    "plt.imshow(image_vector[0])\n",
    "plt.axis('off')\n",
    "  \n",
    "# Adds a subplot at the 2nd position\n",
    "plt.subplot(1,2, 1)\n",
    "  \n",
    "# showing image\n",
    "plt.imshow(image_vector[1])\n",
    "plt.axis('off')\n",
    "plt.title(\"Second\")"
   ]
  },
  {
   "cell_type": "code",
   "execution_count": 28,
   "id": "11cdf95a",
   "metadata": {},
   "outputs": [
    {
     "ename": "TypeError",
     "evalue": "Invalid shape (3, 100, 100) for image data",
     "output_type": "error",
     "traceback": [
      "\u001b[0;31m---------------------------------------------------------------------------\u001b[0m",
      "\u001b[0;31mTypeError\u001b[0m                                 Traceback (most recent call last)",
      "\u001b[0;32m<ipython-input-28-737aaa82dfff>\u001b[0m in \u001b[0;36m<module>\u001b[0;34m\u001b[0m\n\u001b[1;32m      1\u001b[0m \u001b[0mplt\u001b[0m\u001b[0;34m.\u001b[0m\u001b[0mfigure\u001b[0m\u001b[0;34m(\u001b[0m\u001b[0;34m)\u001b[0m\u001b[0;34m\u001b[0m\u001b[0;34m\u001b[0m\u001b[0m\n\u001b[0;32m----> 2\u001b[0;31m \u001b[0mplt\u001b[0m\u001b[0;34m.\u001b[0m\u001b[0mimshow\u001b[0m\u001b[0;34m(\u001b[0m\u001b[0mtrial\u001b[0m\u001b[0;34m[\u001b[0m\u001b[0;36m0\u001b[0m\u001b[0;34m]\u001b[0m\u001b[0;34m)\u001b[0m\u001b[0;34m\u001b[0m\u001b[0;34m\u001b[0m\u001b[0m\n\u001b[0m\u001b[1;32m      3\u001b[0m \u001b[0mplt\u001b[0m\u001b[0;34m.\u001b[0m\u001b[0mcolorbar\u001b[0m\u001b[0;34m(\u001b[0m\u001b[0;34m)\u001b[0m\u001b[0;34m\u001b[0m\u001b[0;34m\u001b[0m\u001b[0m\n\u001b[1;32m      4\u001b[0m \u001b[0mplt\u001b[0m\u001b[0;34m.\u001b[0m\u001b[0mgrid\u001b[0m\u001b[0;34m(\u001b[0m\u001b[0;32mFalse\u001b[0m\u001b[0;34m)\u001b[0m\u001b[0;34m\u001b[0m\u001b[0;34m\u001b[0m\u001b[0m\n\u001b[1;32m      5\u001b[0m \u001b[0mplt\u001b[0m\u001b[0;34m.\u001b[0m\u001b[0mshow\u001b[0m\u001b[0;34m(\u001b[0m\u001b[0;34m)\u001b[0m\u001b[0;34m\u001b[0m\u001b[0;34m\u001b[0m\u001b[0m\n",
      "\u001b[0;32m/Applications/anaconda3/lib/python3.8/site-packages/matplotlib/pyplot.py\u001b[0m in \u001b[0;36mimshow\u001b[0;34m(X, cmap, norm, aspect, interpolation, alpha, vmin, vmax, origin, extent, filternorm, filterrad, resample, url, data, **kwargs)\u001b[0m\n\u001b[1;32m   2722\u001b[0m         \u001b[0mfilternorm\u001b[0m\u001b[0;34m=\u001b[0m\u001b[0;32mTrue\u001b[0m\u001b[0;34m,\u001b[0m \u001b[0mfilterrad\u001b[0m\u001b[0;34m=\u001b[0m\u001b[0;36m4.0\u001b[0m\u001b[0;34m,\u001b[0m \u001b[0mresample\u001b[0m\u001b[0;34m=\u001b[0m\u001b[0;32mNone\u001b[0m\u001b[0;34m,\u001b[0m \u001b[0murl\u001b[0m\u001b[0;34m=\u001b[0m\u001b[0;32mNone\u001b[0m\u001b[0;34m,\u001b[0m\u001b[0;34m\u001b[0m\u001b[0;34m\u001b[0m\u001b[0m\n\u001b[1;32m   2723\u001b[0m         data=None, **kwargs):\n\u001b[0;32m-> 2724\u001b[0;31m     __ret = gca().imshow(\n\u001b[0m\u001b[1;32m   2725\u001b[0m         \u001b[0mX\u001b[0m\u001b[0;34m,\u001b[0m \u001b[0mcmap\u001b[0m\u001b[0;34m=\u001b[0m\u001b[0mcmap\u001b[0m\u001b[0;34m,\u001b[0m \u001b[0mnorm\u001b[0m\u001b[0;34m=\u001b[0m\u001b[0mnorm\u001b[0m\u001b[0;34m,\u001b[0m \u001b[0maspect\u001b[0m\u001b[0;34m=\u001b[0m\u001b[0maspect\u001b[0m\u001b[0;34m,\u001b[0m\u001b[0;34m\u001b[0m\u001b[0;34m\u001b[0m\u001b[0m\n\u001b[1;32m   2726\u001b[0m         \u001b[0minterpolation\u001b[0m\u001b[0;34m=\u001b[0m\u001b[0minterpolation\u001b[0m\u001b[0;34m,\u001b[0m \u001b[0malpha\u001b[0m\u001b[0;34m=\u001b[0m\u001b[0malpha\u001b[0m\u001b[0;34m,\u001b[0m \u001b[0mvmin\u001b[0m\u001b[0;34m=\u001b[0m\u001b[0mvmin\u001b[0m\u001b[0;34m,\u001b[0m\u001b[0;34m\u001b[0m\u001b[0;34m\u001b[0m\u001b[0m\n",
      "\u001b[0;32m/Applications/anaconda3/lib/python3.8/site-packages/matplotlib/__init__.py\u001b[0m in \u001b[0;36minner\u001b[0;34m(ax, data, *args, **kwargs)\u001b[0m\n\u001b[1;32m   1445\u001b[0m     \u001b[0;32mdef\u001b[0m \u001b[0minner\u001b[0m\u001b[0;34m(\u001b[0m\u001b[0max\u001b[0m\u001b[0;34m,\u001b[0m \u001b[0;34m*\u001b[0m\u001b[0margs\u001b[0m\u001b[0;34m,\u001b[0m \u001b[0mdata\u001b[0m\u001b[0;34m=\u001b[0m\u001b[0;32mNone\u001b[0m\u001b[0;34m,\u001b[0m \u001b[0;34m**\u001b[0m\u001b[0mkwargs\u001b[0m\u001b[0;34m)\u001b[0m\u001b[0;34m:\u001b[0m\u001b[0;34m\u001b[0m\u001b[0;34m\u001b[0m\u001b[0m\n\u001b[1;32m   1446\u001b[0m         \u001b[0;32mif\u001b[0m \u001b[0mdata\u001b[0m \u001b[0;32mis\u001b[0m \u001b[0;32mNone\u001b[0m\u001b[0;34m:\u001b[0m\u001b[0;34m\u001b[0m\u001b[0;34m\u001b[0m\u001b[0m\n\u001b[0;32m-> 1447\u001b[0;31m             \u001b[0;32mreturn\u001b[0m \u001b[0mfunc\u001b[0m\u001b[0;34m(\u001b[0m\u001b[0max\u001b[0m\u001b[0;34m,\u001b[0m \u001b[0;34m*\u001b[0m\u001b[0mmap\u001b[0m\u001b[0;34m(\u001b[0m\u001b[0msanitize_sequence\u001b[0m\u001b[0;34m,\u001b[0m \u001b[0margs\u001b[0m\u001b[0;34m)\u001b[0m\u001b[0;34m,\u001b[0m \u001b[0;34m**\u001b[0m\u001b[0mkwargs\u001b[0m\u001b[0;34m)\u001b[0m\u001b[0;34m\u001b[0m\u001b[0;34m\u001b[0m\u001b[0m\n\u001b[0m\u001b[1;32m   1448\u001b[0m \u001b[0;34m\u001b[0m\u001b[0m\n\u001b[1;32m   1449\u001b[0m         \u001b[0mbound\u001b[0m \u001b[0;34m=\u001b[0m \u001b[0mnew_sig\u001b[0m\u001b[0;34m.\u001b[0m\u001b[0mbind\u001b[0m\u001b[0;34m(\u001b[0m\u001b[0max\u001b[0m\u001b[0;34m,\u001b[0m \u001b[0;34m*\u001b[0m\u001b[0margs\u001b[0m\u001b[0;34m,\u001b[0m \u001b[0;34m**\u001b[0m\u001b[0mkwargs\u001b[0m\u001b[0;34m)\u001b[0m\u001b[0;34m\u001b[0m\u001b[0;34m\u001b[0m\u001b[0m\n",
      "\u001b[0;32m/Applications/anaconda3/lib/python3.8/site-packages/matplotlib/axes/_axes.py\u001b[0m in \u001b[0;36mimshow\u001b[0;34m(self, X, cmap, norm, aspect, interpolation, alpha, vmin, vmax, origin, extent, filternorm, filterrad, resample, url, **kwargs)\u001b[0m\n\u001b[1;32m   5521\u001b[0m                               resample=resample, **kwargs)\n\u001b[1;32m   5522\u001b[0m \u001b[0;34m\u001b[0m\u001b[0m\n\u001b[0;32m-> 5523\u001b[0;31m         \u001b[0mim\u001b[0m\u001b[0;34m.\u001b[0m\u001b[0mset_data\u001b[0m\u001b[0;34m(\u001b[0m\u001b[0mX\u001b[0m\u001b[0;34m)\u001b[0m\u001b[0;34m\u001b[0m\u001b[0;34m\u001b[0m\u001b[0m\n\u001b[0m\u001b[1;32m   5524\u001b[0m         \u001b[0mim\u001b[0m\u001b[0;34m.\u001b[0m\u001b[0mset_alpha\u001b[0m\u001b[0;34m(\u001b[0m\u001b[0malpha\u001b[0m\u001b[0;34m)\u001b[0m\u001b[0;34m\u001b[0m\u001b[0;34m\u001b[0m\u001b[0m\n\u001b[1;32m   5525\u001b[0m         \u001b[0;32mif\u001b[0m \u001b[0mim\u001b[0m\u001b[0;34m.\u001b[0m\u001b[0mget_clip_path\u001b[0m\u001b[0;34m(\u001b[0m\u001b[0;34m)\u001b[0m \u001b[0;32mis\u001b[0m \u001b[0;32mNone\u001b[0m\u001b[0;34m:\u001b[0m\u001b[0;34m\u001b[0m\u001b[0;34m\u001b[0m\u001b[0m\n",
      "\u001b[0;32m/Applications/anaconda3/lib/python3.8/site-packages/matplotlib/image.py\u001b[0m in \u001b[0;36mset_data\u001b[0;34m(self, A)\u001b[0m\n\u001b[1;32m    709\u001b[0m         if not (self._A.ndim == 2\n\u001b[1;32m    710\u001b[0m                 or self._A.ndim == 3 and self._A.shape[-1] in [3, 4]):\n\u001b[0;32m--> 711\u001b[0;31m             raise TypeError(\"Invalid shape {} for image data\"\n\u001b[0m\u001b[1;32m    712\u001b[0m                             .format(self._A.shape))\n\u001b[1;32m    713\u001b[0m \u001b[0;34m\u001b[0m\u001b[0m\n",
      "\u001b[0;31mTypeError\u001b[0m: Invalid shape (3, 100, 100) for image data"
     ]
    },
    {
     "data": {
      "image/png": "[encoded data removed]",
      "text/plain": [
       "<Figure size 432x288 with 1 Axes>"
      ]
     },
     "metadata": {
      "needs_background": "light"
     },
     "output_type": "display_data"
    }
   ],
   "source": [
    "plt.figure()\n",
    "plt.imshow(trial[0])\n",
    "plt.colorbar()\n",
    "plt.grid(False)\n",
    "plt.show()"
   ]
  },
  {
   "cell_type": "code",
   "execution_count": null,
   "id": "68911f13",
   "metadata": {},
   "outputs": [],
   "source": []
  },
  {
   "cell_type": "code",
   "execution_count": null,
   "id": "c952baf6",
   "metadata": {},
   "outputs": [],
   "source": []
  }
 ],
 "metadata": {
  "kernelspec": {
   "display_name": "Python 3",
   "language": "python",
   "name": "python3"
  },
  "language_info": {
   "codemirror_mode": {
    "name": "ipython",
    "version": 3
   },
   "file_extension": ".py",
   "mimetype": "text/x-python",
   "name": "python",
   "nbconvert_exporter": "python",
   "pygments_lexer": "ipython3",
   "version": "3.8.8"
  }
 },
 "nbformat": 4,
 "nbformat_minor": 5
}
